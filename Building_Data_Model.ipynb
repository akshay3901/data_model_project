{
 "cells": [
  {
   "cell_type": "markdown",
   "id": "f4c9f48b",
   "metadata": {},
   "source": [
    "# Project : Building data model and writing ETL job (python+Mysql)  "
   ]
  },
  {
   "cell_type": "code",
   "execution_count": null,
   "id": "fa7a6742",
   "metadata": {},
   "outputs": [],
   "source": [
    "!pip install mysql-connector-python\n",
    "!pip install pandas "
   ]
  },
  {
   "cell_type": "markdown",
   "id": "010a80c4",
   "metadata": {},
   "source": [
    "### import libraries"
   ]
  },
  {
   "cell_type": "code",
   "execution_count": 2,
   "id": "5cc67dbd",
   "metadata": {},
   "outputs": [],
   "source": [
    "import mysql.connector as mc\n",
    "import pandas as pd"
   ]
  },
  {
   "cell_type": "markdown",
   "id": "db5e0203",
   "metadata": {},
   "source": [
    "### Create a connection to the default database "
   ]
  },
  {
   "cell_type": "code",
   "execution_count": 3,
   "id": "b9f0e71a",
   "metadata": {},
   "outputs": [
    {
     "name": "stdout",
     "output_type": "stream",
     "text": [
      "Connection done successfully\n"
     ]
    }
   ],
   "source": [
    "# extra parameter added = auth_plugin='mysql_native_password(Error-Authentication plugin'caching_sha2_password'cannot be loaded:)\n",
    "\n",
    "try:\n",
    "    conn=mc.connect(host='localhost',user='root',passwd='Admin@123',database='Mysql',auth_plugin='mysql_native_password')\n",
    "    print('Connection done successfully')\n",
    "except Exception as e:\n",
    "    print(e)"
   ]
  },
  {
   "cell_type": "markdown",
   "id": "89628bee",
   "metadata": {},
   "source": [
    "### get the cursor using connection "
   ]
  },
  {
   "cell_type": "code",
   "execution_count": 4,
   "id": "101f7a4a",
   "metadata": {},
   "outputs": [],
   "source": [
    "try:\n",
    "    cur=conn.cursor()\n",
    "except Exception as e:\n",
    "    print(e)"
   ]
  },
  {
   "cell_type": "markdown",
   "id": "f12da7da",
   "metadata": {},
   "source": [
    "### set autocommit true "
   ]
  },
  {
   "cell_type": "code",
   "execution_count": 5,
   "id": "096e32d2",
   "metadata": {},
   "outputs": [],
   "source": [
    "conn.autocommit=True"
   ]
  },
  {
   "cell_type": "markdown",
   "id": "9798202a",
   "metadata": {},
   "source": [
    "### create DB"
   ]
  },
  {
   "cell_type": "code",
   "execution_count": 7,
   "id": "22921f31",
   "metadata": {},
   "outputs": [
    {
     "name": "stdout",
     "output_type": "stream",
     "text": [
      "Database created successfully\n"
     ]
    }
   ],
   "source": [
    "try:\n",
    "    cur.execute('create database datamodel')\n",
    "    print('Database created successfully')\n",
    "except Exception as e:\n",
    "    print(e)"
   ]
  },
  {
   "cell_type": "code",
   "execution_count": 43,
   "id": "d6f40e66",
   "metadata": {},
   "outputs": [
    {
     "name": "stdout",
     "output_type": "stream",
     "text": [
      "('abc',) \n",
      "\n",
      "('bank',) \n",
      "\n",
      "('classicmodels',) \n",
      "\n",
      "('clause',) \n",
      "\n",
      "('coalesce',) \n",
      "\n",
      "('cte',) \n",
      "\n",
      "('datamodel',) \n",
      "\n",
      "('fun',) \n",
      "\n",
      "('information_schema',) \n",
      "\n",
      "('joins',) \n",
      "\n",
      "('myfirstdb',) \n",
      "\n",
      "('mysql',) \n",
      "\n",
      "('performance_schema',) \n",
      "\n",
      "('pivot',) \n",
      "\n",
      "('practice1',) \n",
      "\n",
      "('subquery',) \n",
      "\n",
      "('xyz',) \n",
      "\n"
     ]
    }
   ],
   "source": [
    "cur.execute('show databases')\n",
    "result=cur.fetchall()\n",
    "for row in result:\n",
    "    print(row,'\\n')"
   ]
  },
  {
   "cell_type": "markdown",
   "id": "f6259a71",
   "metadata": {},
   "source": [
    "### close the current default connection and reconnect on newly created DB "
   ]
  },
  {
   "cell_type": "code",
   "execution_count": 8,
   "id": "ed05f4e0",
   "metadata": {},
   "outputs": [],
   "source": [
    "conn.close()"
   ]
  },
  {
   "cell_type": "code",
   "execution_count": 10,
   "id": "175baf87",
   "metadata": {},
   "outputs": [
    {
     "name": "stdout",
     "output_type": "stream",
     "text": [
      "Connection done successfully on new database\n"
     ]
    }
   ],
   "source": [
    "# let's establish reconnection on new DB and get the cursor\n",
    "\n",
    "try:\n",
    "    conn=mc.connect(host='localhost',user='root',passwd='Admin@123',database='datamodel',auth_plugin='mysql_native_password')\n",
    "    print('Connection done successfully on new database')\n",
    "except Exception as e:\n",
    "    print(e)\n",
    "\n",
    "try:\n",
    "    cur=conn.cursor(buffered=True)\n",
    "except Exception as e:\n",
    "    print(e)\n",
    "\n",
    "conn.autocommit=True"
   ]
  },
  {
   "cell_type": "markdown",
   "id": "996cf1d6",
   "metadata": {},
   "source": [
    "### import CSV files "
   ]
  },
  {
   "cell_type": "code",
   "execution_count": 12,
   "id": "be93a0c6",
   "metadata": {},
   "outputs": [
    {
     "data": {
      "text/html": [
       "<div>\n",
       "<style scoped>\n",
       "    .dataframe tbody tr th:only-of-type {\n",
       "        vertical-align: middle;\n",
       "    }\n",
       "\n",
       "    .dataframe tbody tr th {\n",
       "        vertical-align: top;\n",
       "    }\n",
       "\n",
       "    .dataframe thead th {\n",
       "        text-align: right;\n",
       "    }\n",
       "</style>\n",
       "<table border=\"1\" class=\"dataframe\">\n",
       "  <thead>\n",
       "    <tr style=\"text-align: right;\">\n",
       "      <th></th>\n",
       "      <th>PassengerId</th>\n",
       "      <th>Survived</th>\n",
       "    </tr>\n",
       "  </thead>\n",
       "  <tbody>\n",
       "    <tr>\n",
       "      <th>0</th>\n",
       "      <td>892</td>\n",
       "      <td>0</td>\n",
       "    </tr>\n",
       "    <tr>\n",
       "      <th>1</th>\n",
       "      <td>893</td>\n",
       "      <td>1</td>\n",
       "    </tr>\n",
       "    <tr>\n",
       "      <th>2</th>\n",
       "      <td>894</td>\n",
       "      <td>0</td>\n",
       "    </tr>\n",
       "    <tr>\n",
       "      <th>3</th>\n",
       "      <td>895</td>\n",
       "      <td>0</td>\n",
       "    </tr>\n",
       "    <tr>\n",
       "      <th>4</th>\n",
       "      <td>896</td>\n",
       "      <td>1</td>\n",
       "    </tr>\n",
       "  </tbody>\n",
       "</table>\n",
       "</div>"
      ],
      "text/plain": [
       "   PassengerId  Survived\n",
       "0          892         0\n",
       "1          893         1\n",
       "2          894         0\n",
       "3          895         0\n",
       "4          896         1"
      ]
     },
     "execution_count": 12,
     "metadata": {},
     "output_type": "execute_result"
    }
   ],
   "source": [
    "# PassengerId = id of the passenger\n",
    "# Survived = 1-YES 0-NO\n",
    "\n",
    "gender_submission_dataset=pd.read_csv('C:\\\\Users\\\\Admin\\\\OneDrive\\\\Desktop\\\\DM_project\\\\gender_submission.csv')\n",
    "gender_submission_dataset.head()"
   ]
  },
  {
   "cell_type": "code",
   "execution_count": 13,
   "id": "a5a27976",
   "metadata": {},
   "outputs": [
    {
     "data": {
      "text/html": [
       "<div>\n",
       "<style scoped>\n",
       "    .dataframe tbody tr th:only-of-type {\n",
       "        vertical-align: middle;\n",
       "    }\n",
       "\n",
       "    .dataframe tbody tr th {\n",
       "        vertical-align: top;\n",
       "    }\n",
       "\n",
       "    .dataframe thead th {\n",
       "        text-align: right;\n",
       "    }\n",
       "</style>\n",
       "<table border=\"1\" class=\"dataframe\">\n",
       "  <thead>\n",
       "    <tr style=\"text-align: right;\">\n",
       "      <th></th>\n",
       "      <th>PassengerId</th>\n",
       "      <th>Survived</th>\n",
       "      <th>Pclass</th>\n",
       "      <th>Name</th>\n",
       "      <th>Sex</th>\n",
       "      <th>Age</th>\n",
       "      <th>SibSp</th>\n",
       "      <th>Parch</th>\n",
       "      <th>Ticket</th>\n",
       "      <th>Fare</th>\n",
       "      <th>Cabin</th>\n",
       "      <th>Embarked</th>\n",
       "    </tr>\n",
       "  </thead>\n",
       "  <tbody>\n",
       "    <tr>\n",
       "      <th>0</th>\n",
       "      <td>1</td>\n",
       "      <td>0</td>\n",
       "      <td>3</td>\n",
       "      <td>Braund, Mr. Owen Harris</td>\n",
       "      <td>male</td>\n",
       "      <td>22.0</td>\n",
       "      <td>1</td>\n",
       "      <td>0</td>\n",
       "      <td>A/5 21171</td>\n",
       "      <td>7.2500</td>\n",
       "      <td>NaN</td>\n",
       "      <td>S</td>\n",
       "    </tr>\n",
       "    <tr>\n",
       "      <th>1</th>\n",
       "      <td>2</td>\n",
       "      <td>1</td>\n",
       "      <td>1</td>\n",
       "      <td>Cumings, Mrs. John Bradley</td>\n",
       "      <td>female</td>\n",
       "      <td>38.0</td>\n",
       "      <td>1</td>\n",
       "      <td>0</td>\n",
       "      <td>PC 17599</td>\n",
       "      <td>71.2833</td>\n",
       "      <td>C85</td>\n",
       "      <td>C</td>\n",
       "    </tr>\n",
       "    <tr>\n",
       "      <th>2</th>\n",
       "      <td>3</td>\n",
       "      <td>1</td>\n",
       "      <td>3</td>\n",
       "      <td>Heikkinen, Miss. Laina</td>\n",
       "      <td>female</td>\n",
       "      <td>26.0</td>\n",
       "      <td>0</td>\n",
       "      <td>0</td>\n",
       "      <td>STON/O2. 3101282</td>\n",
       "      <td>7.9250</td>\n",
       "      <td>NaN</td>\n",
       "      <td>S</td>\n",
       "    </tr>\n",
       "    <tr>\n",
       "      <th>3</th>\n",
       "      <td>4</td>\n",
       "      <td>1</td>\n",
       "      <td>1</td>\n",
       "      <td>Futrelle, Mrs. Jacques Heath</td>\n",
       "      <td>female</td>\n",
       "      <td>35.0</td>\n",
       "      <td>1</td>\n",
       "      <td>0</td>\n",
       "      <td>113803</td>\n",
       "      <td>53.1000</td>\n",
       "      <td>C123</td>\n",
       "      <td>S</td>\n",
       "    </tr>\n",
       "    <tr>\n",
       "      <th>4</th>\n",
       "      <td>5</td>\n",
       "      <td>0</td>\n",
       "      <td>3</td>\n",
       "      <td>Allen, Mr. William Henry</td>\n",
       "      <td>male</td>\n",
       "      <td>35.0</td>\n",
       "      <td>0</td>\n",
       "      <td>0</td>\n",
       "      <td>373450</td>\n",
       "      <td>8.0500</td>\n",
       "      <td>NaN</td>\n",
       "      <td>S</td>\n",
       "    </tr>\n",
       "  </tbody>\n",
       "</table>\n",
       "</div>"
      ],
      "text/plain": [
       "   PassengerId  Survived  Pclass                           Name     Sex   Age  \\\n",
       "0            1         0       3        Braund, Mr. Owen Harris    male  22.0   \n",
       "1            2         1       1    Cumings, Mrs. John Bradley   female  38.0   \n",
       "2            3         1       3         Heikkinen, Miss. Laina  female  26.0   \n",
       "3            4         1       1  Futrelle, Mrs. Jacques Heath   female  35.0   \n",
       "4            5         0       3       Allen, Mr. William Henry    male  35.0   \n",
       "\n",
       "   SibSp  Parch            Ticket     Fare Cabin Embarked  \n",
       "0      1      0         A/5 21171   7.2500   NaN        S  \n",
       "1      1      0          PC 17599  71.2833   C85        C  \n",
       "2      0      0  STON/O2. 3101282   7.9250   NaN        S  \n",
       "3      1      0            113803  53.1000  C123        S  \n",
       "4      0      0            373450   8.0500   NaN        S  "
      ]
     },
     "execution_count": 13,
     "metadata": {},
     "output_type": "execute_result"
    }
   ],
   "source": [
    "train_dataset=pd.read_csv('C:\\\\Users\\\\Admin\\\\OneDrive\\\\Desktop\\\\DM_project\\\\train.csv')\n",
    "train_dataset.head()"
   ]
  },
  {
   "cell_type": "code",
   "execution_count": 14,
   "id": "f1f59aee",
   "metadata": {},
   "outputs": [
    {
     "data": {
      "text/html": [
       "<div>\n",
       "<style scoped>\n",
       "    .dataframe tbody tr th:only-of-type {\n",
       "        vertical-align: middle;\n",
       "    }\n",
       "\n",
       "    .dataframe tbody tr th {\n",
       "        vertical-align: top;\n",
       "    }\n",
       "\n",
       "    .dataframe thead th {\n",
       "        text-align: right;\n",
       "    }\n",
       "</style>\n",
       "<table border=\"1\" class=\"dataframe\">\n",
       "  <thead>\n",
       "    <tr style=\"text-align: right;\">\n",
       "      <th></th>\n",
       "      <th>PassengerId</th>\n",
       "      <th>Pclass</th>\n",
       "      <th>Name</th>\n",
       "      <th>Sex</th>\n",
       "      <th>Age</th>\n",
       "      <th>Ticket</th>\n",
       "      <th>Embarked</th>\n",
       "    </tr>\n",
       "  </thead>\n",
       "  <tbody>\n",
       "    <tr>\n",
       "      <th>0</th>\n",
       "      <td>1</td>\n",
       "      <td>3</td>\n",
       "      <td>Braund, Mr. Owen Harris</td>\n",
       "      <td>male</td>\n",
       "      <td>22.0</td>\n",
       "      <td>A/5 21171</td>\n",
       "      <td>S</td>\n",
       "    </tr>\n",
       "    <tr>\n",
       "      <th>1</th>\n",
       "      <td>2</td>\n",
       "      <td>1</td>\n",
       "      <td>Cumings, Mrs. John Bradley</td>\n",
       "      <td>female</td>\n",
       "      <td>38.0</td>\n",
       "      <td>PC 17599</td>\n",
       "      <td>C</td>\n",
       "    </tr>\n",
       "    <tr>\n",
       "      <th>2</th>\n",
       "      <td>3</td>\n",
       "      <td>3</td>\n",
       "      <td>Heikkinen, Miss. Laina</td>\n",
       "      <td>female</td>\n",
       "      <td>26.0</td>\n",
       "      <td>STON/O2. 3101282</td>\n",
       "      <td>S</td>\n",
       "    </tr>\n",
       "    <tr>\n",
       "      <th>3</th>\n",
       "      <td>4</td>\n",
       "      <td>1</td>\n",
       "      <td>Futrelle, Mrs. Jacques Heath</td>\n",
       "      <td>female</td>\n",
       "      <td>35.0</td>\n",
       "      <td>113803</td>\n",
       "      <td>S</td>\n",
       "    </tr>\n",
       "    <tr>\n",
       "      <th>4</th>\n",
       "      <td>5</td>\n",
       "      <td>3</td>\n",
       "      <td>Allen, Mr. William Henry</td>\n",
       "      <td>male</td>\n",
       "      <td>35.0</td>\n",
       "      <td>373450</td>\n",
       "      <td>S</td>\n",
       "    </tr>\n",
       "  </tbody>\n",
       "</table>\n",
       "</div>"
      ],
      "text/plain": [
       "   PassengerId  Pclass                           Name     Sex   Age  \\\n",
       "0            1       3        Braund, Mr. Owen Harris    male  22.0   \n",
       "1            2       1    Cumings, Mrs. John Bradley   female  38.0   \n",
       "2            3       3         Heikkinen, Miss. Laina  female  26.0   \n",
       "3            4       1  Futrelle, Mrs. Jacques Heath   female  35.0   \n",
       "4            5       3       Allen, Mr. William Henry    male  35.0   \n",
       "\n",
       "             Ticket Embarked  \n",
       "0         A/5 21171        S  \n",
       "1          PC 17599        C  \n",
       "2  STON/O2. 3101282        S  \n",
       "3            113803        S  \n",
       "4            373450        S  "
      ]
     },
     "execution_count": 14,
     "metadata": {},
     "output_type": "execute_result"
    }
   ],
   "source": [
    "# Pclass = 1-first_class 2-second_class 3-third_class\n",
    "# Embarked = Boarding station [S-Southampton C-Cherbourg Q-Queenstown]\n",
    "\n",
    "clean_TrainDataset=train_dataset[['PassengerId','Pclass','Name','Sex','Age','Ticket','Embarked']]\n",
    "clean_TrainDataset.head()"
   ]
  },
  {
   "cell_type": "code",
   "execution_count": 15,
   "id": "850c8c73",
   "metadata": {},
   "outputs": [
    {
     "data": {
      "text/html": [
       "<div>\n",
       "<style scoped>\n",
       "    .dataframe tbody tr th:only-of-type {\n",
       "        vertical-align: middle;\n",
       "    }\n",
       "\n",
       "    .dataframe tbody tr th {\n",
       "        vertical-align: top;\n",
       "    }\n",
       "\n",
       "    .dataframe thead th {\n",
       "        text-align: right;\n",
       "    }\n",
       "</style>\n",
       "<table border=\"1\" class=\"dataframe\">\n",
       "  <thead>\n",
       "    <tr style=\"text-align: right;\">\n",
       "      <th></th>\n",
       "      <th>PassengerId</th>\n",
       "      <th>Pclass</th>\n",
       "      <th>Name</th>\n",
       "      <th>Sex</th>\n",
       "      <th>Age</th>\n",
       "      <th>SibSp</th>\n",
       "      <th>Parch</th>\n",
       "      <th>Ticket</th>\n",
       "      <th>Fare</th>\n",
       "      <th>Cabin</th>\n",
       "      <th>Embarked</th>\n",
       "    </tr>\n",
       "  </thead>\n",
       "  <tbody>\n",
       "    <tr>\n",
       "      <th>0</th>\n",
       "      <td>892</td>\n",
       "      <td>3</td>\n",
       "      <td>Kelly, Mr. James</td>\n",
       "      <td>male</td>\n",
       "      <td>34.5</td>\n",
       "      <td>0</td>\n",
       "      <td>0</td>\n",
       "      <td>330911</td>\n",
       "      <td>7.8292</td>\n",
       "      <td>NaN</td>\n",
       "      <td>Q</td>\n",
       "    </tr>\n",
       "    <tr>\n",
       "      <th>1</th>\n",
       "      <td>893</td>\n",
       "      <td>3</td>\n",
       "      <td>Wilkes, Mrs. James (Ellen Needs)</td>\n",
       "      <td>female</td>\n",
       "      <td>47.0</td>\n",
       "      <td>1</td>\n",
       "      <td>0</td>\n",
       "      <td>363272</td>\n",
       "      <td>7.0000</td>\n",
       "      <td>NaN</td>\n",
       "      <td>S</td>\n",
       "    </tr>\n",
       "    <tr>\n",
       "      <th>2</th>\n",
       "      <td>894</td>\n",
       "      <td>2</td>\n",
       "      <td>Myles, Mr. Thomas Francis</td>\n",
       "      <td>male</td>\n",
       "      <td>62.0</td>\n",
       "      <td>0</td>\n",
       "      <td>0</td>\n",
       "      <td>240276</td>\n",
       "      <td>9.6875</td>\n",
       "      <td>NaN</td>\n",
       "      <td>Q</td>\n",
       "    </tr>\n",
       "    <tr>\n",
       "      <th>3</th>\n",
       "      <td>895</td>\n",
       "      <td>3</td>\n",
       "      <td>Wirz, Mr. Albert</td>\n",
       "      <td>male</td>\n",
       "      <td>27.0</td>\n",
       "      <td>0</td>\n",
       "      <td>0</td>\n",
       "      <td>315154</td>\n",
       "      <td>8.6625</td>\n",
       "      <td>NaN</td>\n",
       "      <td>S</td>\n",
       "    </tr>\n",
       "    <tr>\n",
       "      <th>4</th>\n",
       "      <td>896</td>\n",
       "      <td>3</td>\n",
       "      <td>Hirvonen, Mrs. Alexander (Helga E Lindqvist)</td>\n",
       "      <td>female</td>\n",
       "      <td>22.0</td>\n",
       "      <td>1</td>\n",
       "      <td>1</td>\n",
       "      <td>3101298</td>\n",
       "      <td>12.2875</td>\n",
       "      <td>NaN</td>\n",
       "      <td>S</td>\n",
       "    </tr>\n",
       "  </tbody>\n",
       "</table>\n",
       "</div>"
      ],
      "text/plain": [
       "   PassengerId  Pclass                                          Name     Sex  \\\n",
       "0          892       3                              Kelly, Mr. James    male   \n",
       "1          893       3              Wilkes, Mrs. James (Ellen Needs)  female   \n",
       "2          894       2                     Myles, Mr. Thomas Francis    male   \n",
       "3          895       3                              Wirz, Mr. Albert    male   \n",
       "4          896       3  Hirvonen, Mrs. Alexander (Helga E Lindqvist)  female   \n",
       "\n",
       "    Age  SibSp  Parch   Ticket     Fare Cabin Embarked  \n",
       "0  34.5      0      0   330911   7.8292   NaN        Q  \n",
       "1  47.0      1      0   363272   7.0000   NaN        S  \n",
       "2  62.0      0      0   240276   9.6875   NaN        Q  \n",
       "3  27.0      0      0   315154   8.6625   NaN        S  \n",
       "4  22.0      1      1  3101298  12.2875   NaN        S  "
      ]
     },
     "execution_count": 15,
     "metadata": {},
     "output_type": "execute_result"
    }
   ],
   "source": [
    "test_dataset=pd.read_csv('C:\\\\Users\\\\Admin\\\\OneDrive\\\\Desktop\\\\DM_project\\\\test.csv')\n",
    "test_dataset.head()"
   ]
  },
  {
   "cell_type": "code",
   "execution_count": 16,
   "id": "180fe616",
   "metadata": {},
   "outputs": [
    {
     "data": {
      "text/html": [
       "<div>\n",
       "<style scoped>\n",
       "    .dataframe tbody tr th:only-of-type {\n",
       "        vertical-align: middle;\n",
       "    }\n",
       "\n",
       "    .dataframe tbody tr th {\n",
       "        vertical-align: top;\n",
       "    }\n",
       "\n",
       "    .dataframe thead th {\n",
       "        text-align: right;\n",
       "    }\n",
       "</style>\n",
       "<table border=\"1\" class=\"dataframe\">\n",
       "  <thead>\n",
       "    <tr style=\"text-align: right;\">\n",
       "      <th></th>\n",
       "      <th>PassengerId</th>\n",
       "      <th>SibSp</th>\n",
       "      <th>Parch</th>\n",
       "      <th>Embarked</th>\n",
       "    </tr>\n",
       "  </thead>\n",
       "  <tbody>\n",
       "    <tr>\n",
       "      <th>0</th>\n",
       "      <td>892</td>\n",
       "      <td>0</td>\n",
       "      <td>0</td>\n",
       "      <td>Q</td>\n",
       "    </tr>\n",
       "    <tr>\n",
       "      <th>1</th>\n",
       "      <td>893</td>\n",
       "      <td>1</td>\n",
       "      <td>0</td>\n",
       "      <td>S</td>\n",
       "    </tr>\n",
       "    <tr>\n",
       "      <th>2</th>\n",
       "      <td>894</td>\n",
       "      <td>0</td>\n",
       "      <td>0</td>\n",
       "      <td>Q</td>\n",
       "    </tr>\n",
       "    <tr>\n",
       "      <th>3</th>\n",
       "      <td>895</td>\n",
       "      <td>0</td>\n",
       "      <td>0</td>\n",
       "      <td>S</td>\n",
       "    </tr>\n",
       "    <tr>\n",
       "      <th>4</th>\n",
       "      <td>896</td>\n",
       "      <td>1</td>\n",
       "      <td>1</td>\n",
       "      <td>S</td>\n",
       "    </tr>\n",
       "  </tbody>\n",
       "</table>\n",
       "</div>"
      ],
      "text/plain": [
       "   PassengerId  SibSp  Parch Embarked\n",
       "0          892      0      0        Q\n",
       "1          893      1      0        S\n",
       "2          894      0      0        Q\n",
       "3          895      0      0        S\n",
       "4          896      1      1        S"
      ]
     },
     "execution_count": 16,
     "metadata": {},
     "output_type": "execute_result"
    }
   ],
   "source": [
    "# Sib Sp = Number of Siblings/Spouses Aboard\n",
    "# Parch = Number of Parents/Children Aboard\n",
    "\n",
    "clean_TestDataset=test_dataset.drop(['Pclass','Name','Sex','Age','Ticket','Fare','Cabin'], axis=1)\n",
    "clean_TestDataset.head()"
   ]
  },
  {
   "cell_type": "markdown",
   "id": "758edc01",
   "metadata": {},
   "source": [
    "### create data model based on above data and"
   ]
  },
  {
   "cell_type": "markdown",
   "id": "b321c368",
   "metadata": {},
   "source": [
    "### create tables  "
   ]
  },
  {
   "cell_type": "code",
   "execution_count": 17,
   "id": "a1b50bdc",
   "metadata": {},
   "outputs": [
    {
     "name": "stdout",
     "output_type": "stream",
     "text": [
      "Table gender_submission created successfully\n"
     ]
    }
   ],
   "source": [
    "try:\n",
    "    cur.execute('create table gender_submission(PassengerId int primary key,Survived int)')\n",
    "    print('Table gender_submission created successfully')\n",
    "except Exception as e:\n",
    "    print(e)"
   ]
  },
  {
   "cell_type": "code",
   "execution_count": 19,
   "id": "a8e474f9",
   "metadata": {},
   "outputs": [
    {
     "name": "stdout",
     "output_type": "stream",
     "text": [
      "Table train created successfully\n"
     ]
    }
   ],
   "source": [
    "try:\n",
    "    cur.execute('create table train(PassengerId int(20),Pclass int(10),Name varchar(100),Sex varchar(50),Age float,Ticket varchar(100),Embarked char(50))')\n",
    "    print('Table train created successfully')\n",
    "except Exception as e:\n",
    "    print(e)"
   ]
  },
  {
   "cell_type": "code",
   "execution_count": 24,
   "id": "ae643173",
   "metadata": {},
   "outputs": [
    {
     "name": "stdout",
     "output_type": "stream",
     "text": [
      "Table test created successfully\n"
     ]
    }
   ],
   "source": [
    "try:\n",
    "    cur.execute('create table test(PassengerId int(20),SibSp int(20),Parch int(20),Embarked char(20))')\n",
    "    print('Table test created successfully')\n",
    "except Exception as e:\n",
    "    print(e)"
   ]
  },
  {
   "cell_type": "markdown",
   "id": "90e9ead9",
   "metadata": {},
   "source": [
    "### alter-chnage in table structure"
   ]
  },
  {
   "cell_type": "code",
   "execution_count": 7,
   "id": "7af783c0",
   "metadata": {},
   "outputs": [
    {
     "name": "stdout",
     "output_type": "stream",
     "text": [
      "foreign key added\n"
     ]
    }
   ],
   "source": [
    "cur.execute('alter table test ADD FOREIGN KEY (PassengerId) REFERENCES gender_submission(PassengerId);')\n",
    "print('foreign key added')"
   ]
  },
  {
   "cell_type": "markdown",
   "id": "5648882e",
   "metadata": {},
   "source": [
    "### insert the csv files data into tables"
   ]
  },
  {
   "cell_type": "code",
   "execution_count": 25,
   "id": "b8863fef",
   "metadata": {},
   "outputs": [
    {
     "name": "stdout",
     "output_type": "stream",
     "text": [
      "data inserted successfully\n"
     ]
    }
   ],
   "source": [
    "try:\n",
    "    cur.execute('insert into gender_submission(PassengerId,Survived) values(892,0),(893,1),(894,0),(895,0),(896,1)')\n",
    "    print('data inserted successfully')\n",
    "except Exception as e:\n",
    "    print(e)"
   ]
  },
  {
   "cell_type": "markdown",
   "id": "136368cb",
   "metadata": {},
   "source": [
    "### validate data that was inserted or not into the table "
   ]
  },
  {
   "cell_type": "code",
   "execution_count": 39,
   "id": "27cd260c",
   "metadata": {},
   "outputs": [
    {
     "name": "stdout",
     "output_type": "stream",
     "text": [
      "(892, 0) \n",
      "\n",
      "(893, 1) \n",
      "\n",
      "(894, 0) \n",
      "\n",
      "(895, 0) \n",
      "\n",
      "(896, 1) \n",
      "\n"
     ]
    }
   ],
   "source": [
    "cur.execute('select * from gender_submission')\n",
    "result=cur.fetchall()\n",
    "for row in result:\n",
    "    print(row,'\\n')"
   ]
  },
  {
   "cell_type": "code",
   "execution_count": 33,
   "id": "09c9c4da",
   "metadata": {},
   "outputs": [
    {
     "name": "stdout",
     "output_type": "stream",
     "text": [
      "data inserted successfully\n"
     ]
    }
   ],
   "source": [
    "try:\n",
    "    cur.execute(\"insert into train(PassengerId,Pclass,Name,Sex,Age,Ticket,Embarked) values(1,3,'Braund,Mr.Owen Harris','male',22.0,'A/5 21171','S'),(2,1,'Cumings,Mrs.John Bradley','female',38.0,'PC 17599','C'),(3,3,'Heikkinen,Miss.Laina','female',26.0,'STON/O2 3101282','S'),(4,1,'Futrelle,Mrs.Jacques Health','female',35.0,'113803','S'),(5,3,'Allen,Mr.William Henry','male',35.0,'373450','S')\")\n",
    "    print('data inserted successfully')\n",
    "except Exception as e:\n",
    "    print(e)"
   ]
  },
  {
   "cell_type": "code",
   "execution_count": 37,
   "id": "272b9262",
   "metadata": {},
   "outputs": [
    {
     "name": "stdout",
     "output_type": "stream",
     "text": [
      "(1, 3, 'Braund,Mr.Owen Harris', 'male', 22.0, 'A/5 21171', 'S') \n",
      "\n",
      "(2, 1, 'Cumings,Mrs.John Bradley', 'female', 38.0, 'PC 17599', 'C') \n",
      "\n",
      "(3, 3, 'Heikkinen,Miss.Laina', 'female', 26.0, 'STON/O2 3101282', 'S') \n",
      "\n",
      "(4, 1, 'Futrelle,Mrs.Jacques Health', 'female', 35.0, '113803', 'S') \n",
      "\n",
      "(5, 3, 'Allen,Mr.William Henry', 'male', 35.0, '373450', 'S') \n",
      "\n"
     ]
    }
   ],
   "source": [
    "cur.execute('select * from train')\n",
    "result=cur.fetchall()\n",
    "for row in result:\n",
    "    print(row,'\\n')"
   ]
  },
  {
   "cell_type": "code",
   "execution_count": 32,
   "id": "744570f7",
   "metadata": {},
   "outputs": [
    {
     "name": "stdout",
     "output_type": "stream",
     "text": [
      "data inserted successfully\n"
     ]
    }
   ],
   "source": [
    "try:\n",
    "    cur.execute(\"insert into test(PassengerId,SibSp,Parch,Embarked) values(892,0,0,'Q'),(893,1,0,'S'),(894,0,0,'Q'),(895,0,0,'S'),(896,1,1,'S')\")\n",
    "    print('data inserted successfully')\n",
    "except Exception as e:\n",
    "    print(e)"
   ]
  },
  {
   "cell_type": "code",
   "execution_count": 44,
   "id": "ea135466",
   "metadata": {},
   "outputs": [
    {
     "name": "stdout",
     "output_type": "stream",
     "text": [
      "(892, 0, 0, 'Q') \n",
      "\n",
      "(893, 1, 0, 'S') \n",
      "\n",
      "(894, 0, 0, 'Q') \n",
      "\n",
      "(895, 0, 0, 'S') \n",
      "\n",
      "(896, 1, 1, 'S') \n",
      "\n"
     ]
    }
   ],
   "source": [
    "cur.execute('select * from test')\n",
    "result=cur.fetchall()\n",
    "for row in result:\n",
    "    print(row,'\\n')"
   ]
  },
  {
   "cell_type": "markdown",
   "id": "53759f72",
   "metadata": {},
   "source": [
    "### update - updating some data values"
   ]
  },
  {
   "cell_type": "code",
   "execution_count": 23,
   "id": "1fd9d3a4",
   "metadata": {},
   "outputs": [
    {
     "name": "stdout",
     "output_type": "stream",
     "text": [
      "Data update\n"
     ]
    }
   ],
   "source": [
    "cur.execute(\"\"\"update train\n",
    "            set Ticket = (case when PassengerId = 4 then 'A/5 113803'\n",
    "                               when PassengerId = 5 then 'PC 373450'\n",
    "                         end)\n",
    "            where PassengerId in(4,5);\"\"\")\n",
    "print(\"Data update\")"
   ]
  },
  {
   "cell_type": "code",
   "execution_count": 7,
   "id": "4b75ce72",
   "metadata": {},
   "outputs": [
    {
     "name": "stdout",
     "output_type": "stream",
     "text": [
      "(1, 3, 'Braund,Mr.Owen Harris', 'male', 22.0, 'A/5 21171', 'S') \n",
      "\n",
      "(2, 1, 'Cumings,Mrs.John Bradley', 'female', 38.0, 'PC 17599', 'C') \n",
      "\n",
      "(3, 3, 'Heikkinen,Miss.Laina', 'female', 26.0, 'STON/O2 3101282', 'S') \n",
      "\n",
      "(4, 1, 'Futrelle,Mrs.Jacques Health', 'female', 35.0, 'A/5 113803', 'S') \n",
      "\n",
      "(5, 3, 'Allen,Mr.William Henry', 'male', 35.0, 'PC 373450', 'S') \n",
      "\n"
     ]
    }
   ],
   "source": [
    "cur.execute('select * from train')\n",
    "result=cur.fetchall()\n",
    "for row in result:\n",
    "    print(row,'\\n')"
   ]
  },
  {
   "cell_type": "markdown",
   "id": "c16e485f",
   "metadata": {},
   "source": [
    "### finally close cursor and connection"
   ]
  },
  {
   "cell_type": "code",
   "execution_count": 13,
   "id": "ae727581",
   "metadata": {},
   "outputs": [
    {
     "name": "stdout",
     "output_type": "stream",
     "text": [
      "Database connectivity disbale\n"
     ]
    }
   ],
   "source": [
    "cur.close()\n",
    "conn.close()\n",
    "print('Database connectivity disbale')"
   ]
  }
 ],
 "metadata": {
  "kernelspec": {
   "display_name": "Python 3",
   "language": "python",
   "name": "python3"
  },
  "language_info": {
   "codemirror_mode": {
    "name": "ipython",
    "version": 3
   },
   "file_extension": ".py",
   "mimetype": "text/x-python",
   "name": "python",
   "nbconvert_exporter": "python",
   "pygments_lexer": "ipython3",
   "version": "3.8.8"
  }
 },
 "nbformat": 4,
 "nbformat_minor": 5
}
